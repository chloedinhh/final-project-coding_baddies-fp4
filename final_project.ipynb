{
 "cells": [
  {
   "cell_type": "markdown",
   "id": "75d85424-7f1e-4a64-b172-34d00da8f81f",
   "metadata": {},
   "source": [
    "# Your Final Project Title\n",
    "\n",
    "- member 1: Abigail Gutierrez\n",
    "- member 2: Andrew Chang \n",
    "- member 3: Daniel Raygoza\n",
    "- member 4: Chloe Dinh-Luong"
   ]
  },
  {
   "cell_type": "markdown",
   "id": "e462e35e-20d6-4a10-99a2-cc0b1c0e9db1",
   "metadata": {},
   "source": [
    "## Research Questions"
   ]
  },
  {
   "cell_type": "markdown",
   "id": "c9fce2a4-d9cc-437e-b30b-4a472a4901e2",
   "metadata": {
    "tags": []
   },
   "source": [
    "## Introduction"
   ]
  },
  {
   "cell_type": "code",
   "execution_count": 7,
   "id": "a2787aab-5161-470d-9ccc-ee260f1074a3",
   "metadata": {
    "tags": []
   },
   "outputs": [],
   "source": [
    "import pandas as pd\n",
    "df = pd.read_csv(\"tweets.csv\")"
   ]
  },
  {
   "cell_type": "markdown",
   "id": "0141b4fb-ad23-45ea-a401-0d4176cfe387",
   "metadata": {
    "tags": []
   },
   "source": [
    "## Dataset Description"
   ]
  },
  {
   "cell_type": "markdown",
   "id": "a44d37d6-27aa-4850-a1c9-4e2a27036b87",
   "metadata": {},
   "source": [
    "## Analysis"
   ]
  },
  {
   "cell_type": "markdown",
   "id": "9fc53926-67b7-4982-ba0f-f06c3c6ca46f",
   "metadata": {
    "tags": []
   },
   "source": [
    "## Results"
   ]
  },
  {
   "cell_type": "markdown",
   "id": "024bf457-f5f0-47ba-af6e-820c7f44e659",
   "metadata": {
    "tags": []
   },
   "source": [
    "## Contributions"
   ]
  },
  {
   "cell_type": "markdown",
   "id": "75ea3e7c-93b3-4cb6-aa06-c31ae69d3fef",
   "metadata": {},
   "source": [
    "## Findings"
   ]
  },
  {
   "cell_type": "markdown",
   "id": "bd8cc967-6e39-4cec-8e0b-27587b1cfc1f",
   "metadata": {},
   "source": [
    "looking forward to it "
   ]
  },
  {
   "cell_type": "code",
   "execution_count": null,
   "id": "99080c03-c309-4e42-adcf-811c54a7674d",
   "metadata": {},
   "outputs": [],
   "source": []
  }
 ],
 "metadata": {
  "kernelspec": {
   "display_name": "Python 3 (ipykernel)",
   "language": "python",
   "name": "python3"
  },
  "language_info": {
   "codemirror_mode": {
    "name": "ipython",
    "version": 3
   },
   "file_extension": ".py",
   "mimetype": "text/x-python",
   "name": "python",
   "nbconvert_exporter": "python",
   "pygments_lexer": "ipython3",
   "version": "3.10.9"
  }
 },
 "nbformat": 4,
 "nbformat_minor": 5
}
